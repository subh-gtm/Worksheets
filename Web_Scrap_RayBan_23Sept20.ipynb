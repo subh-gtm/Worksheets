{
 "cells": [
  {
   "cell_type": "raw",
   "metadata": {},
   "source": [
    "Write a python program to scrap 10 images of Rayban Sunglasses from  flipkart website and save them  in a \n",
    "directory. \n"
   ]
  },
  {
   "cell_type": "code",
   "execution_count": 7,
   "metadata": {},
   "outputs": [],
   "source": [
    "from selenium import webdriver\n",
    "from bs4 import BeautifulSoup\n",
    "import pandas as pd"
   ]
  },
  {
   "cell_type": "code",
   "execution_count": 8,
   "metadata": {},
   "outputs": [],
   "source": [
    "driver=webdriver.Chrome(\"chromedriver.exe\")"
   ]
  },
  {
   "cell_type": "code",
   "execution_count": 9,
   "metadata": {},
   "outputs": [],
   "source": [
    "images=[]\n",
    "driver.get(\"https://www.flipkart.com/search?q=rayban+sunglasses&as=on&as-show=on&otracker=AS_Query_OrganicAutoSuggest_7_6_na_na_na&otracker1=AS_Query_OrganicAutoSuggest_7_6_na_na_na&as-pos=7&as-type=RECENT&suggestionId=rayban+sunglasses&requestId=d90c9483-2d50-4d46-88e9-2f39e633f462&as-backfill=on\")"
   ]
  },
  {
   "cell_type": "code",
   "execution_count": 13,
   "metadata": {},
   "outputs": [
    {
     "name": "stdout",
     "output_type": "stream",
     "text": [
      "40\n"
     ]
    }
   ],
   "source": [
    "import re\n",
    "content = driver.page_source\n",
    "soup = BeautifulSoup(content)\n",
    "img=soup.findAll('img',attrs={\"class\":\"_3togXc\"})\n",
    "\n",
    "print(len(img))"
   ]
  },
  {
   "cell_type": "code",
   "execution_count": null,
   "metadata": {},
   "outputs": [],
   "source": [
    "#images = bs.find_all('img', {'src':re.compile('.jpg')})"
   ]
  },
  {
   "cell_type": "code",
   "execution_count": 14,
   "metadata": {},
   "outputs": [
    {
     "data": {
      "text/plain": [
       "<img alt=\"\" class=\"_3togXc\" src=\"https://rukminim1.flixcart.com/image/329/395/j81xsi80/sunglass/j/2/y/49-0rb3016901-5849-ray-ban-original-imaey5tvm6cexgns.jpeg?q=50\"/>"
      ]
     },
     "execution_count": 14,
     "metadata": {},
     "output_type": "execute_result"
    }
   ],
   "source": [
    "img[2]"
   ]
  },
  {
   "cell_type": "code",
   "execution_count": 34,
   "metadata": {},
   "outputs": [],
   "source": [
    "for name in img:\n",
    "    images.append(name.text)"
   ]
  },
  {
   "cell_type": "code",
   "execution_count": 35,
   "metadata": {},
   "outputs": [
    {
     "name": "stdout",
     "output_type": "stream",
     "text": [
      "\n"
     ]
    },
    {
     "data": {
      "text/plain": [
       "40"
      ]
     },
     "execution_count": 35,
     "metadata": {},
     "output_type": "execute_result"
    }
   ],
   "source": [
    "print(images[0])\n",
    "len(images)"
   ]
  },
  {
   "cell_type": "code",
   "execution_count": 39,
   "metadata": {},
   "outputs": [
    {
     "data": {
      "text/plain": [
       "[<img alt=\"\" class=\"_3togXc\" src=\"https://rukminim1.flixcart.com/image/329/395/ke0a7ww0-0/sunglass/6/3/i/blkblkavi01-32-style-guru-original-imafusb7qxsgfdwq.jpeg?q=50\"/>,\n",
       " <img alt=\"\" class=\"_3togXc\" src=\"https://rukminim1.flixcart.com/image/329/395/jzog9e80/sunglass/h/y/a/55-1002-gb-fashion-sunglasses-original-imafja27takrgdzr.jpeg?q=50\"/>,\n",
       " <img alt=\"\" class=\"_3togXc\" src=\"https://rukminim1.flixcart.com/image/329/395/sunglass/u/g/7/0rb3342i004-58-ray-ban-63-original-imadswbuxzksdvmu.jpeg?q=50\"/>,\n",
       " <img alt=\"\" class=\"_3togXc\" src=\"https://rukminim1.flixcart.com/image/329/395/sunglass/n/e/d/0rb4165601-8g-ray-ban-55-original-imadrnwpnmkgyhdy.jpeg?q=50\"/>,\n",
       " <img alt=\"\" class=\"_3togXc\" src=\"https://rukminim1.flixcart.com/image/329/395/k8ho0i80/sunglass/q/r/q/55-0rb3025i003-3f55-ray-ban-original-imafqhhchzh6nwqm.jpeg?q=50\"/>,\n",
       " <img alt=\"\" class=\"_3togXc\" src=\"https://rukminim1.flixcart.com/image/329/395/sunglass/v/w/7/0rb3025i003-3258-ray-ban-58-original-imaeazza9kdzsrgg.jpeg?q=50\"/>,\n",
       " <img alt=\"\" class=\"_3togXc\" src=\"https://rukminim1.flixcart.com/image/329/395/k8ho0i80/sunglass/s/w/3/59-0rb3432i00259-ray-ban-original-imafqhhc6gmj9mq7.jpeg?q=50\"/>,\n",
       " <img alt=\"\" class=\"_3togXc\" src=\"https://rukminim1.flixcart.com/image/329/395/k687wy80/sunglass/n/q/k/56-3517-rozdeal-original-imafzptgctddpzzs.jpeg?q=50\"/>,\n",
       " <img alt=\"\" class=\"_3togXc\" src=\"https://rukminim1.flixcart.com/image/329/395/k8ho0i80/sunglass/k/m/k/62-0rb3025i001-5862-ray-ban-original-imafqhhcsshwqwzg.jpeg?q=50\"/>]"
      ]
     },
     "execution_count": 39,
     "metadata": {},
     "output_type": "execute_result"
    }
   ],
   "source": [
    "img[:9]"
   ]
  },
  {
   "cell_type": "code",
   "execution_count": 40,
   "metadata": {},
   "outputs": [],
   "source": [
    "df=pd.DataFrame({\"Rayban_Images\":img})\n",
    "df.to_csv(\"Rayban.csv\",index=False,header=True, encoding='utf-8')"
   ]
  },
  {
   "cell_type": "code",
   "execution_count": null,
   "metadata": {},
   "outputs": [],
   "source": []
  },
  {
   "cell_type": "code",
   "execution_count": null,
   "metadata": {},
   "outputs": [],
   "source": []
  },
  {
   "cell_type": "code",
   "execution_count": null,
   "metadata": {},
   "outputs": [],
   "source": []
  },
  {
   "cell_type": "code",
   "execution_count": null,
   "metadata": {},
   "outputs": [],
   "source": []
  },
  {
   "cell_type": "code",
   "execution_count": null,
   "metadata": {},
   "outputs": [],
   "source": []
  },
  {
   "cell_type": "code",
   "execution_count": null,
   "metadata": {},
   "outputs": [],
   "source": []
  },
  {
   "cell_type": "code",
   "execution_count": null,
   "metadata": {},
   "outputs": [],
   "source": []
  },
  {
   "cell_type": "code",
   "execution_count": null,
   "metadata": {},
   "outputs": [],
   "source": []
  },
  {
   "cell_type": "code",
   "execution_count": null,
   "metadata": {},
   "outputs": [],
   "source": []
  },
  {
   "cell_type": "code",
   "execution_count": null,
   "metadata": {},
   "outputs": [],
   "source": []
  },
  {
   "cell_type": "code",
   "execution_count": null,
   "metadata": {},
   "outputs": [],
   "source": []
  },
  {
   "cell_type": "code",
   "execution_count": null,
   "metadata": {},
   "outputs": [],
   "source": []
  },
  {
   "cell_type": "code",
   "execution_count": null,
   "metadata": {},
   "outputs": [],
   "source": []
  },
  {
   "cell_type": "code",
   "execution_count": null,
   "metadata": {},
   "outputs": [],
   "source": []
  },
  {
   "cell_type": "code",
   "execution_count": null,
   "metadata": {},
   "outputs": [],
   "source": []
  },
  {
   "cell_type": "code",
   "execution_count": null,
   "metadata": {},
   "outputs": [],
   "source": []
  },
  {
   "cell_type": "code",
   "execution_count": null,
   "metadata": {},
   "outputs": [],
   "source": []
  },
  {
   "cell_type": "code",
   "execution_count": null,
   "metadata": {},
   "outputs": [],
   "source": []
  }
 ],
 "metadata": {
  "kernelspec": {
   "display_name": "Python 3",
   "language": "python",
   "name": "python3"
  },
  "language_info": {
   "codemirror_mode": {
    "name": "ipython",
    "version": 3
   },
   "file_extension": ".py",
   "mimetype": "text/x-python",
   "name": "python",
   "nbconvert_exporter": "python",
   "pygments_lexer": "ipython3",
   "version": "3.7.4"
  }
 },
 "nbformat": 4,
 "nbformat_minor": 2
}
