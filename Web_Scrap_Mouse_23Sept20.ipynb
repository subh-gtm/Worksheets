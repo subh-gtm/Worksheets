{
 "cells": [
  {
   "cell_type": "raw",
   "metadata": {},
   "source": [
    "\n",
    "Write a program to scrap 20 mouses’ data which includes model name, price from www.amazon.in whose price \n",
    "is less than 500 and make a data frame with 2 columns “model_name”,” price” with the scraped data. "
   ]
  },
  {
   "cell_type": "code",
   "execution_count": 1,
   "metadata": {},
   "outputs": [],
   "source": [
    "from selenium import webdriver\n",
    "from bs4 import BeautifulSoup\n",
    "import pandas as pd"
   ]
  },
  {
   "cell_type": "code",
   "execution_count": 2,
   "metadata": {},
   "outputs": [],
   "source": [
    "driver=webdriver.Chrome(\"chromedriver.exe\")"
   ]
  },
  {
   "cell_type": "code",
   "execution_count": 3,
   "metadata": {},
   "outputs": [],
   "source": [
    "model_name=[]\n",
    "price=[]\n",
    "driver.get(\"https://www.amazon.in/s?k=mouse&i=computers&rh=n%3A1375420031%2Cp_72%3A1318476031%2Cp_36%3A-49900&dc&qid=1601117558&rnid=1318502031&ref=sr_nr_p_36_1\")"
   ]
  },
  {
   "cell_type": "code",
   "execution_count": 4,
   "metadata": {},
   "outputs": [
    {
     "name": "stdout",
     "output_type": "stream",
     "text": [
      "[<span class=\"a-size-medium a-color-base a-text-normal\" dir=\"auto\">Portronics Toad 12 Wireless 2.4G Optical Mouse with Ergonomic Design, USB Receiver for Notebook, Laptop, Computer, MacBook, Windows, MacOS, (Blue)</span>, <span class=\"a-size-medium a-color-base a-text-normal\" dir=\"auto\">Zebronics ZEB-DLM10 USB Optical Mouse with Premmium Quality and Gold Plated USB</span>, <span class=\"a-size-medium a-color-base a-text-normal\" dir=\"auto\">HP X1000 Wired Mouse (Black/Grey)</span>, <span class=\"a-size-medium a-color-base a-text-normal\" dir=\"auto\">Logitech M90 Wired USB Mouse, 1000 DPI Optical Tracking, Ambidextrous PC/Mac/Laptop - Black</span>, <span class=\"a-size-medium a-color-base a-text-normal\" dir=\"auto\">Lenovo 300 Wired USB Mouse, GX30M39704</span>, <span class=\"a-size-medium a-color-base a-text-normal\" dir=\"auto\">Portronics Toad 12 Wireless 2.4G Optical Mouse with Ergonomic Design, USB Receiver for Notebook, Laptop, Computer, MacBook, Windows, MacOS, (Blue)</span>, <span class=\"a-size-medium a-color-base a-text-normal\" dir=\"auto\">Dell Ms116 275-BBCB Optical Mouse</span>, <span class=\"a-size-medium a-color-base a-text-normal\" dir=\"auto\">iBall FreeGo G20 High Speed Wireless Optical Mouse, Black</span>, <span class=\"a-size-medium a-color-base a-text-normal\" dir=\"auto\">HP Wired Mouse M10</span>, <span class=\"a-size-medium a-color-base a-text-normal\" dir=\"auto\">HP USB X500 Wired Optical Sensor Mouse 3 Buttons Windows 8 Supported</span>]\n",
      "27\n"
     ]
    }
   ],
   "source": [
    "content = driver.page_source\n",
    "soup = BeautifulSoup(content)\n",
    "names=soup.findAll('span',attrs={\"class\":\"a-size-medium a-color-base a-text-normal\"})\n",
    "\n",
    "print(len(names))"
   ]
  },
  {
   "cell_type": "code",
   "execution_count": 5,
   "metadata": {},
   "outputs": [
    {
     "data": {
      "text/plain": [
       "[<span class=\"a-size-medium a-color-base a-text-normal\" dir=\"auto\">Portronics Toad 12 Wireless 2.4G Optical Mouse with Ergonomic Design, USB Receiver for Notebook, Laptop, Computer, MacBook, Windows, MacOS, (Blue)</span>,\n",
       " <span class=\"a-size-medium a-color-base a-text-normal\" dir=\"auto\">Zebronics ZEB-DLM10 USB Optical Mouse with Premmium Quality and Gold Plated USB</span>,\n",
       " <span class=\"a-size-medium a-color-base a-text-normal\" dir=\"auto\">HP X1000 Wired Mouse (Black/Grey)</span>,\n",
       " <span class=\"a-size-medium a-color-base a-text-normal\" dir=\"auto\">Logitech M90 Wired USB Mouse, 1000 DPI Optical Tracking, Ambidextrous PC/Mac/Laptop - Black</span>,\n",
       " <span class=\"a-size-medium a-color-base a-text-normal\" dir=\"auto\">Lenovo 300 Wired USB Mouse, GX30M39704</span>,\n",
       " <span class=\"a-size-medium a-color-base a-text-normal\" dir=\"auto\">Portronics Toad 12 Wireless 2.4G Optical Mouse with Ergonomic Design, USB Receiver for Notebook, Laptop, Computer, MacBook, Windows, MacOS, (Blue)</span>,\n",
       " <span class=\"a-size-medium a-color-base a-text-normal\" dir=\"auto\">Dell Ms116 275-BBCB Optical Mouse</span>,\n",
       " <span class=\"a-size-medium a-color-base a-text-normal\" dir=\"auto\">iBall FreeGo G20 High Speed Wireless Optical Mouse, Black</span>,\n",
       " <span class=\"a-size-medium a-color-base a-text-normal\" dir=\"auto\">HP Wired Mouse M10</span>,\n",
       " <span class=\"a-size-medium a-color-base a-text-normal\" dir=\"auto\">HP USB X500 Wired Optical Sensor Mouse 3 Buttons Windows 8 Supported</span>,\n",
       " <span class=\"a-size-medium a-color-base a-text-normal\" dir=\"auto\">iBall Style 63 Optical Mouse (Black)</span>,\n",
       " <span class=\"a-size-medium a-color-base a-text-normal\" dir=\"auto\">Dell MS116 1000DPI USB Wired Optical Mouse</span>,\n",
       " <span class=\"a-size-medium a-color-base a-text-normal\" dir=\"auto\">Philips 3-Button USB Mouse for Laptop, PC or Mac OS | Optical Wired Mouse, Adjustable DPI | Quiet &amp; Accurate with Quick-Scroll | Ambidextrous Design for Home or Office (SPK7214)</span>,\n",
       " <span class=\"a-size-medium a-color-base a-text-normal\" dir=\"auto\">Logitech M100r Wired USB Mouse (Black)</span>,\n",
       " <span class=\"a-size-medium a-color-base a-text-normal\" dir=\"auto\">KECINOVA ENTERPRISE MS116 1000DPI USB Optical Wired Optical Mouse</span>,\n",
       " <span class=\"a-size-medium a-color-base a-text-normal\" dir=\"auto\">AmazonBasics 3-Button USB Wired Mouse (Black) - 1.5 M Cable</span>,\n",
       " <span class=\"a-size-medium a-color-base a-text-normal\" dir=\"auto\">iBall Freego G100 Premium Wireless Optical Mouse for Windows and Mac (Black)</span>,\n",
       " <span class=\"a-size-medium a-color-base a-text-normal\" dir=\"auto\">Dell MS116 USB Optical Mouse (Black)</span>,\n",
       " <span class=\"a-size-medium a-color-base a-text-normal\" dir=\"auto\">Zebronics Zeb Power Wired Mouse</span>,\n",
       " <span class=\"a-size-medium a-color-base a-text-normal\" dir=\"auto\">Logitech B100 Corded Mouse – Wired USB Mouse for Computers and laptops, for Right or Left Hand Use, Black</span>,\n",
       " <span class=\"a-size-medium a-color-base a-text-normal\" dir=\"auto\">(Renewed) iBall Style 63 Optical Mouse (Black)</span>,\n",
       " <span class=\"a-size-medium a-color-base a-text-normal\" dir=\"auto\">HP 1000 Wired Mouse (4QM14AA)</span>,\n",
       " <span class=\"a-size-medium a-color-base a-text-normal\" dir=\"auto\">Prodot Universal MU-273s USB Wired Optical Mouse</span>,\n",
       " <span class=\"a-size-medium a-color-base a-text-normal\" dir=\"auto\">(Renewed) Live Tech MS-04 USB Wired Mouse (Black) Budget Mouse</span>,\n",
       " <span class=\"a-size-medium a-color-base a-text-normal\" dir=\"auto\">(Renewed) Logitech B170 Wireless Mouse (Black)</span>,\n",
       " <span class=\"a-size-medium a-color-base a-text-normal\" dir=\"auto\">Logitech M90 USB 2.0 Mouse (Black)</span>,\n",
       " <span class=\"a-size-medium a-color-base a-text-normal\" dir=\"auto\">Adcom 6D Slim Wireless Optical Super Mouse with 6 Programmable Buttons, 1600dpi and 2.4Ghz Nano Receiver (Green)</span>]"
      ]
     },
     "execution_count": 5,
     "metadata": {},
     "output_type": "execute_result"
    }
   ],
   "source": [
    "names"
   ]
  },
  {
   "cell_type": "code",
   "execution_count": 6,
   "metadata": {},
   "outputs": [],
   "source": [
    "for name in names:\n",
    "    model_name.append(name.text)"
   ]
  },
  {
   "cell_type": "code",
   "execution_count": 7,
   "metadata": {},
   "outputs": [
    {
     "name": "stdout",
     "output_type": "stream",
     "text": [
      "Portronics Toad 12 Wireless 2.4G Optical Mouse with Ergonomic Design, USB Receiver for Notebook, Laptop, Computer, MacBook, Windows, MacOS, (Blue)\n"
     ]
    },
    {
     "data": {
      "text/plain": [
       "27"
      ]
     },
     "execution_count": 7,
     "metadata": {},
     "output_type": "execute_result"
    }
   ],
   "source": [
    "print(model_name[0])\n",
    "len(model_name)"
   ]
  },
  {
   "cell_type": "code",
   "execution_count": 8,
   "metadata": {},
   "outputs": [
    {
     "name": "stdout",
     "output_type": "stream",
     "text": [
      "25\n"
     ]
    }
   ],
   "source": [
    "amount=soup.findAll('span',attrs={\"class\":\"a-price-whole\"})\n",
    "print(len(amount))"
   ]
  },
  {
   "cell_type": "code",
   "execution_count": 9,
   "metadata": {},
   "outputs": [
    {
     "data": {
      "text/plain": [
       "[<span class=\"a-price-whole\">349</span>,\n",
       " <span class=\"a-price-whole\">310</span>,\n",
       " <span class=\"a-price-whole\">349</span>,\n",
       " <span class=\"a-price-whole\">299</span>,\n",
       " <span class=\"a-price-whole\">299</span>,\n",
       " <span class=\"a-price-whole\">349</span>]"
      ]
     },
     "execution_count": 9,
     "metadata": {},
     "output_type": "execute_result"
    }
   ],
   "source": [
    "amount[:6]"
   ]
  },
  {
   "cell_type": "code",
   "execution_count": 10,
   "metadata": {},
   "outputs": [],
   "source": [
    "for Prices in amount:\n",
    "    price.append(Prices.text)"
   ]
  },
  {
   "cell_type": "code",
   "execution_count": 11,
   "metadata": {},
   "outputs": [
    {
     "data": {
      "text/plain": [
       "'299'"
      ]
     },
     "execution_count": 11,
     "metadata": {},
     "output_type": "execute_result"
    }
   ],
   "source": [
    "price[3]"
   ]
  },
  {
   "cell_type": "code",
   "execution_count": null,
   "metadata": {},
   "outputs": [],
   "source": [
    "model_name"
   ]
  },
  {
   "cell_type": "code",
   "execution_count": null,
   "metadata": {},
   "outputs": [],
   "source": []
  },
  {
   "cell_type": "code",
   "execution_count": null,
   "metadata": {},
   "outputs": [],
   "source": []
  },
  {
   "cell_type": "code",
   "execution_count": 12,
   "metadata": {},
   "outputs": [
    {
     "ename": "ValueError",
     "evalue": "arrays must all be same length",
     "output_type": "error",
     "traceback": [
      "\u001b[1;31m---------------------------------------------------------------------------\u001b[0m",
      "\u001b[1;31mValueError\u001b[0m                                Traceback (most recent call last)",
      "\u001b[1;32m<ipython-input-12-a9a273be87c8>\u001b[0m in \u001b[0;36m<module>\u001b[1;34m\u001b[0m\n\u001b[1;32m----> 1\u001b[1;33m \u001b[0mdf\u001b[0m\u001b[1;33m=\u001b[0m\u001b[0mpd\u001b[0m\u001b[1;33m.\u001b[0m\u001b[0mDataFrame\u001b[0m\u001b[1;33m(\u001b[0m\u001b[1;33m{\u001b[0m\u001b[1;34m\"Mouse_Name\"\u001b[0m\u001b[1;33m:\u001b[0m\u001b[0mmodel_name\u001b[0m\u001b[1;33m,\u001b[0m\u001b[1;34m\"Product_Rate_List\"\u001b[0m\u001b[1;33m:\u001b[0m\u001b[0mprice\u001b[0m\u001b[1;33m}\u001b[0m\u001b[1;33m)\u001b[0m\u001b[1;33m\u001b[0m\u001b[1;33m\u001b[0m\u001b[0m\n\u001b[0m\u001b[0;32m      2\u001b[0m \u001b[0mdf\u001b[0m\u001b[1;33m.\u001b[0m\u001b[0mto_csv\u001b[0m\u001b[1;33m(\u001b[0m\u001b[1;34m\"amazon_mouse.csv\"\u001b[0m\u001b[1;33m,\u001b[0m\u001b[0mindex\u001b[0m\u001b[1;33m=\u001b[0m\u001b[1;32mFalse\u001b[0m\u001b[1;33m,\u001b[0m\u001b[0mheader\u001b[0m\u001b[1;33m=\u001b[0m\u001b[1;32mTrue\u001b[0m\u001b[1;33m,\u001b[0m \u001b[0mencoding\u001b[0m\u001b[1;33m=\u001b[0m\u001b[1;34m'utf-8'\u001b[0m\u001b[1;33m)\u001b[0m\u001b[1;33m\u001b[0m\u001b[1;33m\u001b[0m\u001b[0m\n",
      "\u001b[1;32m~\\Anaconda3\\lib\\site-packages\\pandas\\core\\frame.py\u001b[0m in \u001b[0;36m__init__\u001b[1;34m(self, data, index, columns, dtype, copy)\u001b[0m\n\u001b[0;32m    409\u001b[0m             )\n\u001b[0;32m    410\u001b[0m         \u001b[1;32melif\u001b[0m \u001b[0misinstance\u001b[0m\u001b[1;33m(\u001b[0m\u001b[0mdata\u001b[0m\u001b[1;33m,\u001b[0m \u001b[0mdict\u001b[0m\u001b[1;33m)\u001b[0m\u001b[1;33m:\u001b[0m\u001b[1;33m\u001b[0m\u001b[1;33m\u001b[0m\u001b[0m\n\u001b[1;32m--> 411\u001b[1;33m             \u001b[0mmgr\u001b[0m \u001b[1;33m=\u001b[0m \u001b[0minit_dict\u001b[0m\u001b[1;33m(\u001b[0m\u001b[0mdata\u001b[0m\u001b[1;33m,\u001b[0m \u001b[0mindex\u001b[0m\u001b[1;33m,\u001b[0m \u001b[0mcolumns\u001b[0m\u001b[1;33m,\u001b[0m \u001b[0mdtype\u001b[0m\u001b[1;33m=\u001b[0m\u001b[0mdtype\u001b[0m\u001b[1;33m)\u001b[0m\u001b[1;33m\u001b[0m\u001b[1;33m\u001b[0m\u001b[0m\n\u001b[0m\u001b[0;32m    412\u001b[0m         \u001b[1;32melif\u001b[0m \u001b[0misinstance\u001b[0m\u001b[1;33m(\u001b[0m\u001b[0mdata\u001b[0m\u001b[1;33m,\u001b[0m \u001b[0mma\u001b[0m\u001b[1;33m.\u001b[0m\u001b[0mMaskedArray\u001b[0m\u001b[1;33m)\u001b[0m\u001b[1;33m:\u001b[0m\u001b[1;33m\u001b[0m\u001b[1;33m\u001b[0m\u001b[0m\n\u001b[0;32m    413\u001b[0m             \u001b[1;32mimport\u001b[0m \u001b[0mnumpy\u001b[0m\u001b[1;33m.\u001b[0m\u001b[0mma\u001b[0m\u001b[1;33m.\u001b[0m\u001b[0mmrecords\u001b[0m \u001b[1;32mas\u001b[0m \u001b[0mmrecords\u001b[0m\u001b[1;33m\u001b[0m\u001b[1;33m\u001b[0m\u001b[0m\n",
      "\u001b[1;32m~\\Anaconda3\\lib\\site-packages\\pandas\\core\\internals\\construction.py\u001b[0m in \u001b[0;36minit_dict\u001b[1;34m(data, index, columns, dtype)\u001b[0m\n\u001b[0;32m    255\u001b[0m             \u001b[0marr\u001b[0m \u001b[1;32mif\u001b[0m \u001b[1;32mnot\u001b[0m \u001b[0mis_datetime64tz_dtype\u001b[0m\u001b[1;33m(\u001b[0m\u001b[0marr\u001b[0m\u001b[1;33m)\u001b[0m \u001b[1;32melse\u001b[0m \u001b[0marr\u001b[0m\u001b[1;33m.\u001b[0m\u001b[0mcopy\u001b[0m\u001b[1;33m(\u001b[0m\u001b[1;33m)\u001b[0m \u001b[1;32mfor\u001b[0m \u001b[0marr\u001b[0m \u001b[1;32min\u001b[0m \u001b[0marrays\u001b[0m\u001b[1;33m\u001b[0m\u001b[1;33m\u001b[0m\u001b[0m\n\u001b[0;32m    256\u001b[0m         ]\n\u001b[1;32m--> 257\u001b[1;33m     \u001b[1;32mreturn\u001b[0m \u001b[0marrays_to_mgr\u001b[0m\u001b[1;33m(\u001b[0m\u001b[0marrays\u001b[0m\u001b[1;33m,\u001b[0m \u001b[0mdata_names\u001b[0m\u001b[1;33m,\u001b[0m \u001b[0mindex\u001b[0m\u001b[1;33m,\u001b[0m \u001b[0mcolumns\u001b[0m\u001b[1;33m,\u001b[0m \u001b[0mdtype\u001b[0m\u001b[1;33m=\u001b[0m\u001b[0mdtype\u001b[0m\u001b[1;33m)\u001b[0m\u001b[1;33m\u001b[0m\u001b[1;33m\u001b[0m\u001b[0m\n\u001b[0m\u001b[0;32m    258\u001b[0m \u001b[1;33m\u001b[0m\u001b[0m\n\u001b[0;32m    259\u001b[0m \u001b[1;33m\u001b[0m\u001b[0m\n",
      "\u001b[1;32m~\\Anaconda3\\lib\\site-packages\\pandas\\core\\internals\\construction.py\u001b[0m in \u001b[0;36marrays_to_mgr\u001b[1;34m(arrays, arr_names, index, columns, dtype)\u001b[0m\n\u001b[0;32m     75\u001b[0m     \u001b[1;31m# figure out the index, if necessary\u001b[0m\u001b[1;33m\u001b[0m\u001b[1;33m\u001b[0m\u001b[1;33m\u001b[0m\u001b[0m\n\u001b[0;32m     76\u001b[0m     \u001b[1;32mif\u001b[0m \u001b[0mindex\u001b[0m \u001b[1;32mis\u001b[0m \u001b[1;32mNone\u001b[0m\u001b[1;33m:\u001b[0m\u001b[1;33m\u001b[0m\u001b[1;33m\u001b[0m\u001b[0m\n\u001b[1;32m---> 77\u001b[1;33m         \u001b[0mindex\u001b[0m \u001b[1;33m=\u001b[0m \u001b[0mextract_index\u001b[0m\u001b[1;33m(\u001b[0m\u001b[0marrays\u001b[0m\u001b[1;33m)\u001b[0m\u001b[1;33m\u001b[0m\u001b[1;33m\u001b[0m\u001b[0m\n\u001b[0m\u001b[0;32m     78\u001b[0m     \u001b[1;32melse\u001b[0m\u001b[1;33m:\u001b[0m\u001b[1;33m\u001b[0m\u001b[1;33m\u001b[0m\u001b[0m\n\u001b[0;32m     79\u001b[0m         \u001b[0mindex\u001b[0m \u001b[1;33m=\u001b[0m \u001b[0mensure_index\u001b[0m\u001b[1;33m(\u001b[0m\u001b[0mindex\u001b[0m\u001b[1;33m)\u001b[0m\u001b[1;33m\u001b[0m\u001b[1;33m\u001b[0m\u001b[0m\n",
      "\u001b[1;32m~\\Anaconda3\\lib\\site-packages\\pandas\\core\\internals\\construction.py\u001b[0m in \u001b[0;36mextract_index\u001b[1;34m(data)\u001b[0m\n\u001b[0;32m    366\u001b[0m             \u001b[0mlengths\u001b[0m \u001b[1;33m=\u001b[0m \u001b[0mlist\u001b[0m\u001b[1;33m(\u001b[0m\u001b[0mset\u001b[0m\u001b[1;33m(\u001b[0m\u001b[0mraw_lengths\u001b[0m\u001b[1;33m)\u001b[0m\u001b[1;33m)\u001b[0m\u001b[1;33m\u001b[0m\u001b[1;33m\u001b[0m\u001b[0m\n\u001b[0;32m    367\u001b[0m             \u001b[1;32mif\u001b[0m \u001b[0mlen\u001b[0m\u001b[1;33m(\u001b[0m\u001b[0mlengths\u001b[0m\u001b[1;33m)\u001b[0m \u001b[1;33m>\u001b[0m \u001b[1;36m1\u001b[0m\u001b[1;33m:\u001b[0m\u001b[1;33m\u001b[0m\u001b[1;33m\u001b[0m\u001b[0m\n\u001b[1;32m--> 368\u001b[1;33m                 \u001b[1;32mraise\u001b[0m \u001b[0mValueError\u001b[0m\u001b[1;33m(\u001b[0m\u001b[1;34m\"arrays must all be same length\"\u001b[0m\u001b[1;33m)\u001b[0m\u001b[1;33m\u001b[0m\u001b[1;33m\u001b[0m\u001b[0m\n\u001b[0m\u001b[0;32m    369\u001b[0m \u001b[1;33m\u001b[0m\u001b[0m\n\u001b[0;32m    370\u001b[0m             \u001b[1;32mif\u001b[0m \u001b[0mhave_dicts\u001b[0m\u001b[1;33m:\u001b[0m\u001b[1;33m\u001b[0m\u001b[1;33m\u001b[0m\u001b[0m\n",
      "\u001b[1;31mValueError\u001b[0m: arrays must all be same length"
     ]
    }
   ],
   "source": [
    "df=pd.DataFrame({\"Mouse_Name\":model_name,\"Product_Rate_List\":price})\n",
    "df.to_csv(\"amazon_mouse.csv\",index=False,header=True, encoding='utf-8')"
   ]
  },
  {
   "cell_type": "code",
   "execution_count": null,
   "metadata": {},
   "outputs": [],
   "source": []
  },
  {
   "cell_type": "code",
   "execution_count": null,
   "metadata": {},
   "outputs": [],
   "source": []
  },
  {
   "cell_type": "code",
   "execution_count": null,
   "metadata": {},
   "outputs": [],
   "source": []
  },
  {
   "cell_type": "code",
   "execution_count": null,
   "metadata": {},
   "outputs": [],
   "source": []
  },
  {
   "cell_type": "code",
   "execution_count": null,
   "metadata": {},
   "outputs": [],
   "source": []
  }
 ],
 "metadata": {
  "kernelspec": {
   "display_name": "Python 3",
   "language": "python",
   "name": "python3"
  },
  "language_info": {
   "codemirror_mode": {
    "name": "ipython",
    "version": 3
   },
   "file_extension": ".py",
   "mimetype": "text/x-python",
   "name": "python",
   "nbconvert_exporter": "python",
   "pygments_lexer": "ipython3",
   "version": "3.7.4"
  }
 },
 "nbformat": 4,
 "nbformat_minor": 2
}
