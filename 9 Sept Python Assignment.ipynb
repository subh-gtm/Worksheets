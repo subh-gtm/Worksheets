{
 "cells": [
  {
   "cell_type": "raw",
   "metadata": {},
   "source": [
    "Prg#1 :Write a python program to find the factorial of a number. \n"
   ]
  },
  {
   "cell_type": "code",
   "execution_count": 4,
   "metadata": {},
   "outputs": [
    {
     "name": "stdout",
     "output_type": "stream",
     "text": [
      "Input data for factorial : 23\n",
      "Factorial of given data is :  25852016738884976640000\n"
     ]
    }
   ],
   "source": [
    "import pandas as pd\n",
    "def factorial(n):\n",
    "    if n == 0:\n",
    "        return 1\n",
    "    else:\n",
    "        return n * factorial(n-1)\n",
    "n=int(input(\"Input data for factorial : \"))\n",
    "print(\"Factorial of given data is : \",factorial(n))"
   ]
  },
  {
   "cell_type": "raw",
   "metadata": {},
   "source": [
    "Prg#2 :Write a python program to find whether a number is prime or composite. \n"
   ]
  },
  {
   "cell_type": "code",
   "execution_count": 28,
   "metadata": {},
   "outputs": [
    {
     "name": "stdout",
     "output_type": "stream",
     "text": [
      "Enter a Number: 12\n",
      "Given Input is Not Prime Number\n"
     ]
    }
   ],
   "source": [
    "num = int(input(\"Enter a Number: \"))\n",
    " \n",
    "for i in range(2, num):\n",
    "    if num % i  == 0:\n",
    "        print(\"Given Input is Not Prime Number\")\n",
    "        break\n",
    "else:\n",
    "            print(\"Given Input is a Prime Number\")"
   ]
  },
  {
   "cell_type": "raw",
   "metadata": {},
   "source": [
    "Prg#3 :Write a python program to check whether a given string is palindrome or not. \n"
   ]
  },
  {
   "cell_type": "code",
   "execution_count": 1,
   "metadata": {},
   "outputs": [
    {
     "name": "stdout",
     "output_type": "stream",
     "text": [
      "Enter the string: 22\n",
      "Input String is Palindrome\n"
     ]
    }
   ],
   "source": [
    "instr = input(\"Enter the string: \")\n",
    "if str(instr) == str(instr)[::-1]: \n",
    "  print(\"Input String is Palindrome\")\n",
    "else:\n",
    "  print(\"Input String is Not a Palindrome\")"
   ]
  },
  {
   "cell_type": "raw",
   "metadata": {},
   "source": [
    "Prg#4 :Write a Python program to get the third side of right-angled triangle from two given side\n"
   ]
  },
  {
   "cell_type": "code",
   "execution_count": 10,
   "metadata": {},
   "outputs": [
    {
     "name": "stdout",
     "output_type": "stream",
     "text": [
      "Enter Triangled length of side 1: 3\n",
      "Enter Triangled length of side 2: 4\n",
      "Triangled length of  Side 3:  5.0\n"
     ]
    }
   ],
   "source": [
    "side1 = float(input(\"Enter Triangled length of side 1: \"))\n",
    "side2 = float(input(\"Enter Triangled length of side 2: \"))\n",
    "side3 = (((side1 * side1) + (side2 * side2))**(1/2));\n",
    "print(\"Triangled length of  Side 3: \",side3) "
   ]
  },
  {
   "cell_type": "raw",
   "metadata": {},
   "source": [
    "Prg#5 :Write a python program to print the frequency of each of the characters present in a given string. \n"
   ]
  },
  {
   "cell_type": "code",
   "execution_count": 28,
   "metadata": {},
   "outputs": [
    {
     "name": "stdout",
     "output_type": "stream",
     "text": [
      "Enter the String: hello\n",
      "Counts of Characters:  {'h': 1, 'e': 1, 'l': 2, 'o': 1}\n"
     ]
    }
   ],
   "source": [
    "def freq_char(str1):\n",
    "    dict = {}\n",
    "    for n in str1:\n",
    "        keys = dict.keys()\n",
    "        if n in keys:\n",
    "            dict[n] += 1\n",
    "        else:\n",
    "            dict[n] = 1\n",
    "    return dict\n",
    "\n",
    "instr=input(\"Enter the String: \")\n",
    "\n",
    "print(\"Counts of Characters: \",freq_char(instr))\n"
   ]
  },
  {
   "cell_type": "code",
   "execution_count": null,
   "metadata": {},
   "outputs": [],
   "source": []
  },
  {
   "cell_type": "code",
   "execution_count": null,
   "metadata": {},
   "outputs": [],
   "source": []
  },
  {
   "cell_type": "code",
   "execution_count": null,
   "metadata": {},
   "outputs": [],
   "source": []
  },
  {
   "cell_type": "code",
   "execution_count": null,
   "metadata": {},
   "outputs": [],
   "source": []
  },
  {
   "cell_type": "code",
   "execution_count": null,
   "metadata": {},
   "outputs": [],
   "source": []
  }
 ],
 "metadata": {
  "kernelspec": {
   "display_name": "Python 3",
   "language": "python",
   "name": "python3"
  },
  "language_info": {
   "codemirror_mode": {
    "name": "ipython",
    "version": 3
   },
   "file_extension": ".py",
   "mimetype": "text/x-python",
   "name": "python",
   "nbconvert_exporter": "python",
   "pygments_lexer": "ipython3",
   "version": "3.7.4"
  }
 },
 "nbformat": 4,
 "nbformat_minor": 2
}
