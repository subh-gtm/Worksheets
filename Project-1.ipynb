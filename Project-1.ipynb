{
 "cells": [
  {
   "cell_type": "raw",
   "metadata": {},
   "source": [
    "Sentiment prediction\n",
    "====================\n",
    " You have recently started hotel business and collected customer sentiments data from different sources which have similar type of business (train).\n",
    "\n",
    "Currently customers are visiting your hotel and started dropping their reviews about your hotel and you have collected all the reviews up to data and you are clueless if those reviews represent positive or negative emotions (test).\n",
    "\n",
    "Use case\n",
    "========\n",
    "\n",
    "\tYou would need to build a system to predict if the reviews are positive/negative, so that you can address any issues which are in the form of negative feedback."
   ]
  },
  {
   "cell_type": "code",
   "execution_count": 51,
   "metadata": {},
   "outputs": [
    {
     "name": "stdout",
     "output_type": "stream",
     "text": [
      "Requirement already satisfied: wordcloud in c:\\users\\subhg\\anaconda3\\lib\\site-packages (1.8.0)\n",
      "Requirement already satisfied: matplotlib in c:\\users\\subhg\\anaconda3\\lib\\site-packages (from wordcloud) (3.1.1)\n",
      "Requirement already satisfied: pillow in c:\\users\\subhg\\anaconda3\\lib\\site-packages (from wordcloud) (6.2.0)\n",
      "Requirement already satisfied: numpy>=1.6.1 in c:\\users\\subhg\\anaconda3\\lib\\site-packages (from wordcloud) (1.16.5)\n",
      "Requirement already satisfied: cycler>=0.10 in c:\\users\\subhg\\anaconda3\\lib\\site-packages (from matplotlib->wordcloud) (0.10.0)\n",
      "Requirement already satisfied: kiwisolver>=1.0.1 in c:\\users\\subhg\\anaconda3\\lib\\site-packages (from matplotlib->wordcloud) (1.1.0)\n",
      "Requirement already satisfied: pyparsing!=2.0.4,!=2.1.2,!=2.1.6,>=2.0.1 in c:\\users\\subhg\\anaconda3\\lib\\site-packages (from matplotlib->wordcloud) (2.4.2)\n",
      "Requirement already satisfied: python-dateutil>=2.1 in c:\\users\\subhg\\anaconda3\\lib\\site-packages (from matplotlib->wordcloud) (2.8.0)\n",
      "Requirement already satisfied: six in c:\\users\\subhg\\anaconda3\\lib\\site-packages (from cycler>=0.10->matplotlib->wordcloud) (1.12.0)\n",
      "Requirement already satisfied: setuptools in c:\\users\\subhg\\anaconda3\\lib\\site-packages (from kiwisolver>=1.0.1->matplotlib->wordcloud) (41.4.0)\n"
     ]
    }
   ],
   "source": [
    "!pip install wordcloud\n",
    "import pandas as pd\n",
    "import nltk\n",
    "import numpy as np\n",
    "from wordcloud import WordCloud, STOPWORDS\n",
    "from sklearn.tree import DecisionTreeClassifier\n",
    "from sklearn.ensemble import RandomForestClassifier, GradientBoostingRegressor\n",
    "from sklearn.svm import SVC\n",
    "from sklearn.naive_bayes import MultinomialNB\n",
    "from sklearn.feature_extraction.text import TfidfVectorizer\n",
    "from sklearn.feature_extraction.text import CountVectorizer\n",
    "from collections import Counter\n",
    "from nltk import word_tokenize\n",
    "from sklearn.utils import shuffle\n",
    "from sklearn.model_selection import train_test_split\n",
    "\n",
    "\n",
    "import warnings\n",
    "warnings.filterwarnings('ignore')"
   ]
  },
  {
   "cell_type": "code",
   "execution_count": 52,
   "metadata": {},
   "outputs": [],
   "source": [
    "import pickle\n",
    "import matplotlib.pyplot as plt\n",
    "%matplotlib inline\n",
    "import seaborn as sns"
   ]
  },
  {
   "cell_type": "markdown",
   "metadata": {},
   "source": [
    "# Pre- Preprocessing"
   ]
  },
  {
   "cell_type": "code",
   "execution_count": 4,
   "metadata": {},
   "outputs": [],
   "source": [
    "df = pd.read_csv('train.csv')"
   ]
  },
  {
   "cell_type": "code",
   "execution_count": 5,
   "metadata": {},
   "outputs": [],
   "source": [
    "dummy_neg = df[df['Is_Response'] == 'not happy']\n",
    "dummy_pos = df[df['Is_Response'] == 'not happy']"
   ]
  },
  {
   "cell_type": "code",
   "execution_count": 53,
   "metadata": {},
   "outputs": [],
   "source": [
    "def plt_count_freq(counts,title=None,_ylim=100000):\n",
    "    freq = list(set(counts.values()))\n",
    "    freq.sort()\n",
    "    freq.reverse()\n",
    "    plt.plot(freq)\n",
    "    plt.xlabel('Terms')\n",
    "    plt.ylabel('freq count')\n",
    "    plt.ylim(0,_ylim)\n",
    "    if(title!=None):\n",
    "        plt.title(title)\n",
    "    plt.show()"
   ]
  },
  {
   "cell_type": "code",
   "execution_count": 7,
   "metadata": {},
   "outputs": [],
   "source": [
    "neg_words = ' '.join(dummy_neg['Description'])\n",
    "pos_words = ' '.join(dummy_pos['Description'])\n",
    "neg_words_list = word_tokenize(neg_words)\n",
    "pos_words_list = word_tokenize(pos_words)\n",
    "neg_counts = Counter(neg_words_list)\n",
    "pos_counts = Counter(pos_words_list)\n",
    "neg_most_common = neg_counts.most_common()\n",
    "pos_most_common = pos_counts.most_common()"
   ]
  },
  {
   "cell_type": "code",
   "execution_count": 8,
   "metadata": {},
   "outputs": [
    {
     "data": {
      "image/png": "[encoded data removed]",
      "text/plain": [
       "<Figure size 432x288 with 1 Axes>"
      ]
     },
     "metadata": {
      "needs_background": "light"
     },
     "output_type": "display_data"
    },
    {
     "data": {
      "image/png": "[encoded data removed]",
      "text/plain": [
       "<Figure size 432x288 with 1 Axes>"
      ]
     },
     "metadata": {
      "needs_background": "light"
     },
     "output_type": "display_data"
    }
   ],
   "source": [
    "#plt_count_freq(counts,'Corpus')\n",
    "plt_count_freq(pos_counts,'Positive words',40000)\n",
    "plt_count_freq(neg_counts,'Negative Words',20000)"
   ]
  },
  {
   "cell_type": "code",
   "execution_count": 9,
   "metadata": {},
   "outputs": [],
   "source": [
    "def create_tf_high_stoplist(pos_counts,neg_counts,thresh=20000):\n",
    "    pos_words_thresh = []\n",
    "    stoplist = []\n",
    "    for word,freq in pos_counts.most_common():\n",
    "        if freq>=thresh:\n",
    "            pos_words_thresh.append(word)\n",
    "        else:\n",
    "            break\n",
    "    for word,freq in neg_counts.most_common():\n",
    "        if(freq<thresh):\n",
    "            break\n",
    "        elif(word in pos_words_thresh):\n",
    "            stoplist.append(word)\n",
    "    return stoplist      "
   ]
  },
  {
   "cell_type": "code",
   "execution_count": 10,
   "metadata": {},
   "outputs": [],
   "source": [
    "tf_high_stoplist = create_tf_high_stoplist(pos_counts,neg_counts,7500)"
   ]
  },
  {
   "cell_type": "code",
   "execution_count": 11,
   "metadata": {},
   "outputs": [],
   "source": [
    "def clean_data(inputDF, tf1 = False,stops_bool = False,tf_high=False, updates=[],*tf_high_args):\n",
    "\n",
    "    if tf1:\n",
    "        file = open(\"TF1_cleaned_input.p\",'rb')\n",
    "        tf1_cleaned_data = pickle.load(file)\n",
    "        file.close()\n",
    "        stops = set()\n",
    "        if stops_bool:\n",
    "            stops = set(STOPWORDS)\n",
    "            if updates:\n",
    "                assert isinstance(updates,list)\n",
    "                stops.update(updates)\n",
    "            if tf_high:\n",
    "                stops.update(create_tf_high_stoplist(*tf_high_args))\n",
    "        else:\n",
    "            if tf_high:\n",
    "                stops.update(create_tf_high_stoplist(*tf_high_args))\n",
    "            if updates:\n",
    "                assert isinstance(updates,list)\n",
    "                stops.update(updates)\n",
    "        count_vec = CountVectorizer(analyzer = \"word\",stop_words= stops,max_features=500)\n",
    "        count_vec_ngrams = CountVectorizer(analyzer = \"word\", stop_words = stops , ngram_range = (1,2),max_features=500)\n",
    "        \n",
    "    else:\n",
    "        \n",
    "        pass\n",
    "        "
   ]
  },
  {
   "cell_type": "code",
   "execution_count": 12,
   "metadata": {},
   "outputs": [],
   "source": [
    "df['sentiment']  = df['Is_Response'].apply(\n",
    "lambda x : 0 if x == 'not happy' else 1)"
   ]
  },
  {
   "cell_type": "code",
   "execution_count": 13,
   "metadata": {},
   "outputs": [
    {
     "data": {
      "text/plain": [
       "1    26521\n",
       "0    12411\n",
       "Name: sentiment, dtype: int64"
      ]
     },
     "execution_count": 13,
     "metadata": {},
     "output_type": "execute_result"
    }
   ],
   "source": [
    "df['sentiment'].value_counts()"
   ]
  },
  {
   "cell_type": "code",
   "execution_count": 14,
   "metadata": {},
   "outputs": [],
   "source": [
    "inputDF = df['Description']\n",
    "outputDF = df['sentiment']"
   ]
  },
  {
   "cell_type": "code",
   "execution_count": 15,
   "metadata": {},
   "outputs": [],
   "source": [
    "file = open(\"TF1_cleaned_input.p\",'rb')\n",
    "tf1_cleaned_data = pickle.load(file)\n",
    "file.close()"
   ]
  },
  {
   "cell_type": "code",
   "execution_count": 16,
   "metadata": {},
   "outputs": [
    {
     "data": {
      "text/plain": [
       "38932"
      ]
     },
     "execution_count": 16,
     "metadata": {},
     "output_type": "execute_result"
    }
   ],
   "source": [
    "len(tf1_cleaned_data)"
   ]
  },
  {
   "cell_type": "code",
   "execution_count": 17,
   "metadata": {},
   "outputs": [],
   "source": [
    "inputDF = tf1_cleaned_data"
   ]
  },
  {
   "cell_type": "code",
   "execution_count": 18,
   "metadata": {},
   "outputs": [],
   "source": [
    "words = ' '.join(inputDF)"
   ]
  },
  {
   "cell_type": "code",
   "execution_count": 19,
   "metadata": {},
   "outputs": [],
   "source": [
    "x_train,x_test,y_train,y_test = train_test_split(inputDF,outputDF,random_state=42)"
   ]
  },
  {
   "cell_type": "code",
   "execution_count": 20,
   "metadata": {},
   "outputs": [],
   "source": [
    "stops = set(STOPWORDS)\n",
    "stops.update(tf_high_stoplist)"
   ]
  },
  {
   "cell_type": "code",
   "execution_count": 21,
   "metadata": {},
   "outputs": [],
   "source": [
    "count_vec = CountVectorizer(analyzer = \"word\",stop_words=stops)\n",
    "count_vec_ngrams = CountVectorizer(analyzer = \"word\", ngram_range = (1,2),stop_words=stops)"
   ]
  },
  {
   "cell_type": "code",
   "execution_count": 22,
   "metadata": {},
   "outputs": [
    {
     "name": "stderr",
     "output_type": "stream",
     "text": [
      "C:\\Users\\subhg\\Anaconda3\\lib\\site-packages\\sklearn\\feature_extraction\\text.py:300: UserWarning: Your stop_words may be inconsistent with your preprocessing. Tokenizing the stop words generated tokens ['aren', 'couldn', 'didn', 'doesn', 'don', 'hadn', 'hasn', 'haven', 'isn', 'let', 'll', 'mustn', 're', 'shan', 'shouldn', 've', 'wasn', 'weren', 'won', 'wouldn'] not in stop_words.\n",
      "  'stop_words.' % sorted(inconsistent))\n",
      "C:\\Users\\subhg\\Anaconda3\\lib\\site-packages\\sklearn\\feature_extraction\\text.py:300: UserWarning: Your stop_words may be inconsistent with your preprocessing. Tokenizing the stop words generated tokens ['aren', 'couldn', 'didn', 'doesn', 'don', 'hadn', 'hasn', 'haven', 'isn', 'let', 'll', 'mustn', 're', 'shan', 'shouldn', 've', 'wasn', 'weren', 'won', 'wouldn'] not in stop_words.\n",
      "  'stop_words.' % sorted(inconsistent))\n"
     ]
    }
   ],
   "source": [
    "train_features = count_vec.fit_transform(x_train)\n",
    "train_features_grams = count_vec_ngrams.fit_transform(x_train)"
   ]
  },
  {
   "cell_type": "code",
   "execution_count": 23,
   "metadata": {},
   "outputs": [],
   "source": [
    "test_features = count_vec.transform(x_test)\n",
    "test_features_grams = count_vec_ngrams.transform(x_test)"
   ]
  },
  {
   "cell_type": "markdown",
   "metadata": {},
   "source": [
    "# GradientBoostingRegression"
   ]
  },
  {
   "cell_type": "code",
   "execution_count": 24,
   "metadata": {},
   "outputs": [],
   "source": [
    "clf = GradientBoostingRegressor(n_estimators=100,max_depth=10,learning_rate=0.01,verbose=2)"
   ]
  },
  {
   "cell_type": "code",
   "execution_count": 25,
   "metadata": {},
   "outputs": [
    {
     "name": "stdout",
     "output_type": "stream",
     "text": [
      "      Iter       Train Loss   Remaining Time \n",
      "         1           0.2158            6.91m\n",
      "         2           0.2143            6.62m\n",
      "         3           0.2129            6.71m\n",
      "         4           0.2116            6.60m\n",
      "         5           0.2102            6.53m\n",
      "         6           0.2089            6.51m\n",
      "         7           0.2076            6.45m\n",
      "         8           0.2063            6.37m\n",
      "         9           0.2050            6.30m\n",
      "        10           0.2038            6.23m\n",
      "        11           0.2026            6.18m\n",
      "        12           0.2014            6.12m\n",
      "        13           0.2002            6.06m\n",
      "        14           0.1991            6.00m\n",
      "        15           0.1979            5.94m\n",
      "        16           0.1968            5.88m\n",
      "        17           0.1957            5.81m\n",
      "        18           0.1946            5.74m\n",
      "        19           0.1935            5.66m\n",
      "        20           0.1925            5.59m\n",
      "        21           0.1915            5.52m\n",
      "        22           0.1905            5.45m\n",
      "        23           0.1894            5.39m\n",
      "        24           0.1885            5.32m\n",
      "        25           0.1875            5.26m\n",
      "        26           0.1865            5.18m\n",
      "        27           0.1856            5.11m\n",
      "        28           0.1847            5.04m\n",
      "        29           0.1838            4.97m\n",
      "        30           0.1829            4.90m\n",
      "        31           0.1820            4.83m\n",
      "        32           0.1811            4.76m\n",
      "        33           0.1802            4.70m\n",
      "        34           0.1794            4.63m\n",
      "        35           0.1786            4.56m\n",
      "        36           0.1778            4.50m\n",
      "        37           0.1769            4.44m\n",
      "        38           0.1761            4.36m\n",
      "        39           0.1753            4.30m\n",
      "        40           0.1746            4.23m\n",
      "        41           0.1738            4.16m\n",
      "        42           0.1730            4.09m\n",
      "        43           0.1722            4.03m\n",
      "        44           0.1715            3.96m\n",
      "        45           0.1708            3.89m\n",
      "        46           0.1701            3.82m\n",
      "        47           0.1693            3.75m\n",
      "        48           0.1686            3.67m\n",
      "        49           0.1680            3.60m\n",
      "        50           0.1673            3.54m\n",
      "        51           0.1666            3.47m\n",
      "        52           0.1659            3.40m\n",
      "        53           0.1652            3.33m\n",
      "        54           0.1646            3.27m\n",
      "        55           0.1639            3.20m\n",
      "        56           0.1633            3.12m\n",
      "        57           0.1627            3.05m\n",
      "        58           0.1620            2.99m\n",
      "        59           0.1614            2.92m\n",
      "        60           0.1608            2.85m\n",
      "        61           0.1602            2.78m\n",
      "        62           0.1596            2.71m\n",
      "        63           0.1590            2.64m\n",
      "        64           0.1584            2.57m\n",
      "        65           0.1578            2.50m\n",
      "        66           0.1573            2.43m\n",
      "        67           0.1567            2.36m\n",
      "        68           0.1561            2.29m\n",
      "        69           0.1556            2.21m\n",
      "        70           0.1550            2.14m\n",
      "        71           0.1545            2.07m\n",
      "        72           0.1540            2.00m\n",
      "        73           0.1534            1.93m\n",
      "        74           0.1529            1.85m\n",
      "        75           0.1524            1.78m\n",
      "        76           0.1519            1.71m\n",
      "        77           0.1514            1.64m\n",
      "        78           0.1509            1.56m\n",
      "        79           0.1504            1.49m\n",
      "        80           0.1499            1.41m\n",
      "        81           0.1494            1.34m\n",
      "        82           0.1489            1.27m\n",
      "        83           0.1484            1.20m\n",
      "        84           0.1479            1.13m\n",
      "        85           0.1474            1.06m\n",
      "        86           0.1469           59.14s\n",
      "        87           0.1465           54.90s\n",
      "        88           0.1460           50.53s\n",
      "        89           0.1455           46.38s\n",
      "        90           0.1451           42.04s\n",
      "        91           0.1446           37.87s\n",
      "        92           0.1442           33.65s\n",
      "        93           0.1437           29.42s\n",
      "        94           0.1433           25.20s\n",
      "        95           0.1428           21.02s\n",
      "        96           0.1424           16.77s\n",
      "        97           0.1420           12.59s\n",
      "        98           0.1416            8.37s\n",
      "        99           0.1412            4.19s\n",
      "       100           0.1407            0.00s\n"
     ]
    },
    {
     "data": {
      "text/plain": [
       "GradientBoostingRegressor(alpha=0.9, criterion='friedman_mse', init=None,\n",
       "                          learning_rate=0.01, loss='ls', max_depth=10,\n",
       "                          max_features=None, max_leaf_nodes=None,\n",
       "                          min_impurity_decrease=0.0, min_impurity_split=None,\n",
       "                          min_samples_leaf=1, min_samples_split=2,\n",
       "                          min_weight_fraction_leaf=0.0, n_estimators=100,\n",
       "                          n_iter_no_change=None, presort='auto',\n",
       "                          random_state=None, subsample=1.0, tol=0.0001,\n",
       "                          validation_fraction=0.1, verbose=2, warm_start=False)"
      ]
     },
     "execution_count": 25,
     "metadata": {},
     "output_type": "execute_result"
    }
   ],
   "source": [
    "clf.fit(train_features,y_train)"
   ]
  },
  {
   "cell_type": "code",
   "execution_count": 26,
   "metadata": {},
   "outputs": [
    {
     "data": {
      "text/plain": [
       "0.25238773255200864"
      ]
     },
     "execution_count": 26,
     "metadata": {},
     "output_type": "execute_result"
    }
   ],
   "source": [
    "clf.score(test_features,y_test)"
   ]
  },
  {
   "cell_type": "code",
   "execution_count": 27,
   "metadata": {},
   "outputs": [
    {
     "data": {
      "text/plain": [
       "array([0.00000000e+00, 0.00000000e+00, 8.72682453e-06, ...,\n",
       "       0.00000000e+00, 0.00000000e+00, 0.00000000e+00])"
      ]
     },
     "execution_count": 27,
     "metadata": {},
     "output_type": "execute_result"
    }
   ],
   "source": [
    "clf.feature_importances_"
   ]
  },
  {
   "cell_type": "markdown",
   "metadata": {},
   "source": [
    "# Random Forest"
   ]
  },
  {
   "cell_type": "code",
   "execution_count": 28,
   "metadata": {},
   "outputs": [],
   "source": [
    "clf = RandomForestClassifier(random_state=42)\n",
    "clf_grams = RandomForestClassifier(random_state=42)"
   ]
  },
  {
   "cell_type": "code",
   "execution_count": 29,
   "metadata": {},
   "outputs": [
    {
     "name": "stderr",
     "output_type": "stream",
     "text": [
      "C:\\Users\\subhg\\Anaconda3\\lib\\site-packages\\sklearn\\ensemble\\forest.py:245: FutureWarning: The default value of n_estimators will change from 10 in version 0.20 to 100 in 0.22.\n",
      "  \"10 in version 0.20 to 100 in 0.22.\", FutureWarning)\n"
     ]
    },
    {
     "data": {
      "text/plain": [
       "RandomForestClassifier(bootstrap=True, class_weight=None, criterion='gini',\n",
       "                       max_depth=None, max_features='auto', max_leaf_nodes=None,\n",
       "                       min_impurity_decrease=0.0, min_impurity_split=None,\n",
       "                       min_samples_leaf=1, min_samples_split=2,\n",
       "                       min_weight_fraction_leaf=0.0, n_estimators=10,\n",
       "                       n_jobs=None, oob_score=False, random_state=42, verbose=0,\n",
       "                       warm_start=False)"
      ]
     },
     "execution_count": 29,
     "metadata": {},
     "output_type": "execute_result"
    }
   ],
   "source": [
    "clf.fit(train_features,y_train)"
   ]
  },
  {
   "cell_type": "code",
   "execution_count": 30,
   "metadata": {},
   "outputs": [
    {
     "data": {
      "text/plain": [
       "0.8071509298263639"
      ]
     },
     "execution_count": 30,
     "metadata": {},
     "output_type": "execute_result"
    }
   ],
   "source": [
    "clf.score(test_features,y_test)"
   ]
  },
  {
   "cell_type": "code",
   "execution_count": 31,
   "metadata": {},
   "outputs": [
    {
     "name": "stderr",
     "output_type": "stream",
     "text": [
      "C:\\Users\\subhg\\Anaconda3\\lib\\site-packages\\sklearn\\ensemble\\forest.py:245: FutureWarning: The default value of n_estimators will change from 10 in version 0.20 to 100 in 0.22.\n",
      "  \"10 in version 0.20 to 100 in 0.22.\", FutureWarning)\n"
     ]
    },
    {
     "data": {
      "text/plain": [
       "RandomForestClassifier(bootstrap=True, class_weight=None, criterion='gini',\n",
       "                       max_depth=None, max_features='auto', max_leaf_nodes=None,\n",
       "                       min_impurity_decrease=0.0, min_impurity_split=None,\n",
       "                       min_samples_leaf=1, min_samples_split=2,\n",
       "                       min_weight_fraction_leaf=0.0, n_estimators=10,\n",
       "                       n_jobs=None, oob_score=False, random_state=42, verbose=0,\n",
       "                       warm_start=False)"
      ]
     },
     "execution_count": 31,
     "metadata": {},
     "output_type": "execute_result"
    }
   ],
   "source": [
    "clf_grams.fit(train_features_grams,y_train)"
   ]
  },
  {
   "cell_type": "code",
   "execution_count": 32,
   "metadata": {},
   "outputs": [
    {
     "data": {
      "text/plain": [
       "0.7908147539299291"
      ]
     },
     "execution_count": 32,
     "metadata": {},
     "output_type": "execute_result"
    }
   ],
   "source": [
    "clf_grams.score(test_features_grams,y_test)"
   ]
  },
  {
   "cell_type": "markdown",
   "metadata": {},
   "source": [
    "## Decision Tree"
   ]
  },
  {
   "cell_type": "code",
   "execution_count": 33,
   "metadata": {},
   "outputs": [
    {
     "name": "stdout",
     "output_type": "stream",
     "text": [
      "0.7590670913387445\n",
      "0.745710469536628\n"
     ]
    }
   ],
   "source": [
    "clf = DecisionTreeClassifier()\n",
    "clf_grams = DecisionTreeClassifier()\n",
    "clf.fit(train_features,y_train)\n",
    "clf_grams.fit(train_features_grams,y_train)\n",
    "print(clf_grams.score(test_features_grams,y_test))\n",
    "print(clf.score(test_features,y_test))"
   ]
  },
  {
   "cell_type": "markdown",
   "metadata": {},
   "source": [
    "## MultinomialNB"
   ]
  },
  {
   "cell_type": "code",
   "execution_count": 34,
   "metadata": {},
   "outputs": [
    {
     "name": "stdout",
     "output_type": "stream",
     "text": [
      "0.8526661871981918\n"
     ]
    },
    {
     "data": {
      "text/plain": [
       "0.8652008630432549"
      ]
     },
     "execution_count": 34,
     "metadata": {},
     "output_type": "execute_result"
    }
   ],
   "source": [
    "clf = MultinomialNB()\n",
    "clf_grams = MultinomialNB()\n",
    "clf_grams.fit(train_features_grams,y_train)\n",
    "clf.fit(train_features,y_train)\n",
    "print(clf_grams.score(test_features_grams,y_test))\n",
    "clf.score(test_features,y_test)"
   ]
  },
  {
   "cell_type": "code",
   "execution_count": 35,
   "metadata": {},
   "outputs": [],
   "source": [
    "TF = TfidfVectorizer()\n",
    "train_features = TF.fit_transform(x_train)\n",
    "test_features = TF.transform(x_test)"
   ]
  },
  {
   "cell_type": "code",
   "execution_count": 36,
   "metadata": {},
   "outputs": [
    {
     "data": {
      "text/plain": [
       "0.7458132127812597"
      ]
     },
     "execution_count": 36,
     "metadata": {},
     "output_type": "execute_result"
    }
   ],
   "source": [
    "clf = DecisionTreeClassifier()\n",
    "clf.fit(train_features,y_train)\n",
    "clf.score(test_features,y_test)"
   ]
  },
  {
   "cell_type": "code",
   "execution_count": 37,
   "metadata": {},
   "outputs": [
    {
     "data": {
      "text/plain": [
       "0.828624267954382"
      ]
     },
     "execution_count": 37,
     "metadata": {},
     "output_type": "execute_result"
    }
   ],
   "source": [
    "clf = MultinomialNB()\n",
    "clf.fit(train_features,y_train)\n",
    "clf.score(test_features,y_test)"
   ]
  },
  {
   "cell_type": "code",
   "execution_count": 38,
   "metadata": {},
   "outputs": [],
   "source": [
    "list_words = word_tokenize(words)"
   ]
  },
  {
   "cell_type": "code",
   "execution_count": 39,
   "metadata": {},
   "outputs": [],
   "source": [
    "counts = Counter(list_words)"
   ]
  },
  {
   "cell_type": "code",
   "execution_count": 40,
   "metadata": {},
   "outputs": [],
   "source": [
    "tf_high_stoplist = []"
   ]
  },
  {
   "cell_type": "markdown",
   "metadata": {},
   "source": [
    "## Random Forest"
   ]
  },
  {
   "cell_type": "code",
   "execution_count": 41,
   "metadata": {},
   "outputs": [],
   "source": [
    "train_features = count_vec.fit_transform(inputDF)"
   ]
  },
  {
   "cell_type": "code",
   "execution_count": 42,
   "metadata": {},
   "outputs": [
    {
     "data": {
      "text/plain": [
       "(38932, 24075)"
      ]
     },
     "execution_count": 42,
     "metadata": {},
     "output_type": "execute_result"
    }
   ],
   "source": [
    "train_features.shape"
   ]
  },
  {
   "cell_type": "code",
   "execution_count": 43,
   "metadata": {},
   "outputs": [],
   "source": [
    "testDF = pd.read_csv('test.csv')\n",
    "testing_df = testDF['Description']"
   ]
  },
  {
   "cell_type": "code",
   "execution_count": 44,
   "metadata": {},
   "outputs": [],
   "source": [
    "test_features = count_vec.transform(testing_df)"
   ]
  },
  {
   "cell_type": "code",
   "execution_count": 45,
   "metadata": {},
   "outputs": [],
   "source": [
    "y_train = df['sentiment']"
   ]
  },
  {
   "cell_type": "code",
   "execution_count": 46,
   "metadata": {},
   "outputs": [
    {
     "name": "stderr",
     "output_type": "stream",
     "text": [
      "C:\\Users\\subhg\\Anaconda3\\lib\\site-packages\\sklearn\\ensemble\\forest.py:245: FutureWarning: The default value of n_estimators will change from 10 in version 0.20 to 100 in 0.22.\n",
      "  \"10 in version 0.20 to 100 in 0.22.\", FutureWarning)\n"
     ]
    },
    {
     "data": {
      "text/plain": [
       "RandomForestClassifier(bootstrap=True, class_weight=None, criterion='gini',\n",
       "                       max_depth=None, max_features='auto', max_leaf_nodes=None,\n",
       "                       min_impurity_decrease=0.0, min_impurity_split=None,\n",
       "                       min_samples_leaf=1, min_samples_split=2,\n",
       "                       min_weight_fraction_leaf=0.0, n_estimators=10,\n",
       "                       n_jobs=None, oob_score=False, random_state=None,\n",
       "                       verbose=0, warm_start=False)"
      ]
     },
     "execution_count": 46,
     "metadata": {},
     "output_type": "execute_result"
    }
   ],
   "source": [
    "clf = RandomForestClassifier()\n",
    "clf.fit(train_features,y_train)"
   ]
  },
  {
   "cell_type": "code",
   "execution_count": 47,
   "metadata": {},
   "outputs": [],
   "source": [
    "prediction = clf.predict(test_features)"
   ]
  },
  {
   "cell_type": "code",
   "execution_count": 48,
   "metadata": {},
   "outputs": [
    {
     "data": {
      "text/plain": [
       "(29404,)"
      ]
     },
     "execution_count": 48,
     "metadata": {},
     "output_type": "execute_result"
    }
   ],
   "source": [
    "prediction.shape"
   ]
  },
  {
   "cell_type": "code",
   "execution_count": 50,
   "metadata": {},
   "outputs": [],
   "source": [
    "testDF['Is_Response'] = prediction\n",
    "testDF['Is_Response'] = testDF['Is_Response'].apply(lambda x:'not_happy' if x==0 else 'happy') \n",
    "submissionDF = testDF[['User_ID','Is_Response']]\n",
    "submissionDF.to_csv('submission.csv',columns=['User_ID','Is_Response'],index=False)"
   ]
  },
  {
   "cell_type": "code",
   "execution_count": null,
   "metadata": {},
   "outputs": [],
   "source": []
  }
 ],
 "metadata": {
  "kernelspec": {
   "display_name": "Python 3",
   "language": "python",
   "name": "python3"
  },
  "language_info": {
   "codemirror_mode": {
    "name": "ipython",
    "version": 3
   },
   "file_extension": ".py",
   "mimetype": "text/x-python",
   "name": "python",
   "nbconvert_exporter": "python",
   "pygments_lexer": "ipython3",
   "version": "3.7.4"
  }
 },
 "nbformat": 4,
 "nbformat_minor": 2
}
