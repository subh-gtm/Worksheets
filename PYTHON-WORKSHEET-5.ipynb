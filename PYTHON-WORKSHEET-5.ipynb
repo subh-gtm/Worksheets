{
 "cells": [
  {
   "cell_type": "raw",
   "metadata": {},
   "source": [
    "12. write a python program to square the elements of a list by using list comprehension."
   ]
  },
  {
   "cell_type": "code",
   "execution_count": 12,
   "metadata": {},
   "outputs": [
    {
     "name": "stdout",
     "output_type": "stream",
     "text": [
      "[4, 16, 36, 81, 225]\n"
     ]
    }
   ],
   "source": [
    "num = [2, 4, 6, 9, 15]\n",
    "\n",
    "\n",
    "sq_num = [num ** 2 for num in num]\n",
    "\n",
    "\n",
    "print(sq_num)\n"
   ]
  },
  {
   "cell_type": "raw",
   "metadata": {},
   "source": [
    "13. Write a pyhton program to drop duplicate elements from a list of numbers."
   ]
  },
  {
   "cell_type": "code",
   "execution_count": 13,
   "metadata": {},
   "outputs": [
    {
     "name": "stdout",
     "output_type": "stream",
     "text": [
      "Original list is : [11, 22, 33, 11, 12, 33, 66, 19]\n",
      "list after removing duplicates : [11, 22, 33, 12, 66, 19]\n"
     ]
    }
   ],
   "source": [
    "list1 = [11, 22, 33, 11, 12, 33, 66, 19] \n",
    "print (\"Original list is : \" +  str(list1)) \n",
    "\n",
    "res = [] \n",
    "for i in list1: \n",
    "    if i not in res: \n",
    "        res.append(i) \n",
    "\n",
    "\n",
    "print (\"list after removing duplicates : \" + str(res)) "
   ]
  },
  {
   "cell_type": "raw",
   "metadata": {},
   "source": [
    "14. Take two sets of numbers and try implementing the set operations - intersection, union, difference \n",
    "and symmetric_difference between them. "
   ]
  },
  {
   "cell_type": "code",
   "execution_count": 5,
   "metadata": {},
   "outputs": [
    {
     "name": "stdout",
     "output_type": "stream",
     "text": [
      "{2, 3}\n"
     ]
    }
   ],
   "source": [
    "# Intersection:\n",
    "a = set([1, 2, 3])\n",
    "b = set([2, 3, 4])\n",
    "result = {element for element in a if element in b}\n",
    "print(result)"
   ]
  },
  {
   "cell_type": "code",
   "execution_count": 6,
   "metadata": {},
   "outputs": [
    {
     "name": "stdout",
     "output_type": "stream",
     "text": [
      "{1, 2, 3, 4}\n"
     ]
    }
   ],
   "source": [
    "#union:\n",
    "a = set([1, 2, 3])\n",
    "b = set([2, 3, 4])\n",
    "c = set()\n",
    "\n",
    "for element in a: \n",
    "    c.add(element)\n",
    "\n",
    "for element in b: \n",
    "    c.add(element)\n",
    "\n",
    "print(c)"
   ]
  },
  {
   "cell_type": "code",
   "execution_count": 7,
   "metadata": {},
   "outputs": [
    {
     "name": "stdout",
     "output_type": "stream",
     "text": [
      "{1}\n"
     ]
    }
   ],
   "source": [
    "#difference\n",
    "a = set([1, 2, 3])\n",
    "b = set([2, 3, 4])\n",
    "c = {element for element in a if element not in b}\n",
    "print(c)"
   ]
  },
  {
   "cell_type": "code",
   "execution_count": 8,
   "metadata": {},
   "outputs": [
    {
     "name": "stdout",
     "output_type": "stream",
     "text": [
      "{1, 4}\n"
     ]
    }
   ],
   "source": [
    "#symmetric_difference\n",
    "a = set([1, 2, 3])\n",
    "b = set([2, 3, 4])\n",
    "c = set()\n",
    "\n",
    "for element in a:\n",
    "    if element not in b:\n",
    "        c.add(element)\n",
    "\n",
    "for element in b:\n",
    "    if element not in a:\n",
    "        c.add(element)\n",
    "\n",
    "print(c)\n"
   ]
  },
  {
   "cell_type": "raw",
   "metadata": {},
   "source": [
    "15. Write a python program to add the elements of a set."
   ]
  },
  {
   "cell_type": "code",
   "execution_count": 14,
   "metadata": {},
   "outputs": [
    {
     "name": "stdout",
     "output_type": "stream",
     "text": [
      "Vowels are: {('i', 'o'), 'u', 'e', 'a'}\n",
      "Vowels are: {('i', 'o'), 'u', 'e', 'a'}\n"
     ]
    }
   ],
   "source": [
    "vowels = {'a', 'e', 'u'}\n",
    "tup = ('i', 'o')\n",
    "vowels.add(tup)\n",
    "print('Vowels are:', vowels)\n",
    "\n",
    "vowels.add(tup)\n",
    "print('Vowels are:', vowels)"
   ]
  },
  {
   "cell_type": "code",
   "execution_count": null,
   "metadata": {},
   "outputs": [],
   "source": []
  },
  {
   "cell_type": "code",
   "execution_count": null,
   "metadata": {},
   "outputs": [],
   "source": []
  },
  {
   "cell_type": "code",
   "execution_count": null,
   "metadata": {},
   "outputs": [],
   "source": []
  },
  {
   "cell_type": "code",
   "execution_count": null,
   "metadata": {},
   "outputs": [],
   "source": []
  },
  {
   "cell_type": "code",
   "execution_count": null,
   "metadata": {},
   "outputs": [],
   "source": []
  },
  {
   "cell_type": "code",
   "execution_count": null,
   "metadata": {},
   "outputs": [],
   "source": []
  },
  {
   "cell_type": "code",
   "execution_count": null,
   "metadata": {},
   "outputs": [],
   "source": []
  },
  {
   "cell_type": "code",
   "execution_count": null,
   "metadata": {},
   "outputs": [],
   "source": []
  },
  {
   "cell_type": "code",
   "execution_count": null,
   "metadata": {},
   "outputs": [],
   "source": []
  },
  {
   "cell_type": "code",
   "execution_count": null,
   "metadata": {},
   "outputs": [],
   "source": []
  },
  {
   "cell_type": "code",
   "execution_count": null,
   "metadata": {},
   "outputs": [],
   "source": []
  },
  {
   "cell_type": "code",
   "execution_count": null,
   "metadata": {},
   "outputs": [],
   "source": []
  },
  {
   "cell_type": "code",
   "execution_count": null,
   "metadata": {},
   "outputs": [],
   "source": []
  },
  {
   "cell_type": "code",
   "execution_count": null,
   "metadata": {},
   "outputs": [],
   "source": []
  },
  {
   "cell_type": "code",
   "execution_count": null,
   "metadata": {},
   "outputs": [],
   "source": []
  },
  {
   "cell_type": "code",
   "execution_count": null,
   "metadata": {},
   "outputs": [],
   "source": []
  },
  {
   "cell_type": "code",
   "execution_count": null,
   "metadata": {},
   "outputs": [],
   "source": []
  },
  {
   "cell_type": "code",
   "execution_count": null,
   "metadata": {},
   "outputs": [],
   "source": []
  },
  {
   "cell_type": "code",
   "execution_count": null,
   "metadata": {},
   "outputs": [],
   "source": []
  },
  {
   "cell_type": "code",
   "execution_count": null,
   "metadata": {},
   "outputs": [],
   "source": []
  },
  {
   "cell_type": "code",
   "execution_count": null,
   "metadata": {},
   "outputs": [],
   "source": []
  },
  {
   "cell_type": "code",
   "execution_count": null,
   "metadata": {},
   "outputs": [],
   "source": []
  },
  {
   "cell_type": "code",
   "execution_count": null,
   "metadata": {},
   "outputs": [],
   "source": []
  }
 ],
 "metadata": {
  "kernelspec": {
   "display_name": "Python 3",
   "language": "python",
   "name": "python3"
  },
  "language_info": {
   "codemirror_mode": {
    "name": "ipython",
    "version": 3
   },
   "file_extension": ".py",
   "mimetype": "text/x-python",
   "name": "python",
   "nbconvert_exporter": "python",
   "pygments_lexer": "ipython3",
   "version": "3.7.4"
  }
 },
 "nbformat": 4,
 "nbformat_minor": 2
}
