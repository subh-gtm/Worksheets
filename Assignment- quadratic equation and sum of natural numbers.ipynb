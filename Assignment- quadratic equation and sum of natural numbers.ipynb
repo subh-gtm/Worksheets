{
 "cells": [
  {
   "cell_type": "markdown",
   "metadata": {},
   "source": [
    "# Python Worksheet Assignment- 1    dt 28.08.2020"
   ]
  },
  {
   "cell_type": "raw",
   "metadata": {},
   "source": [
    "Write a python program to find the sum of first ‘n’ natural numbers without using any loop. Ask user to input \n",
    "the value of ‘n’.\n"
   ]
  },
  {
   "cell_type": "code",
   "execution_count": 3,
   "metadata": {},
   "outputs": [
    {
     "name": "stdout",
     "output_type": "stream",
     "text": [
      "Enter Value of n 5\n",
      "Sum of Natural Numbers:  15.0\n"
     ]
    }
   ],
   "source": [
    "# User Input\n",
    "val=input(\"Enter Value of n \")\n",
    "n=int(val)\n",
    "#Putting Formula for Calculation \n",
    "sum = ((n*n)+n)/2;\n",
    "#Final Outcome\n",
    "print(\"Sum of Natural Numbers: \",sum)"
   ]
  },
  {
   "cell_type": "code",
   "execution_count": null,
   "metadata": {},
   "outputs": [],
   "source": []
  },
  {
   "cell_type": "raw",
   "metadata": {},
   "source": [
    "Write a python program to solve a quadratic equation of the form 𝑎𝑥 2 + 𝑏𝑥+ 𝑐= 0. Where a, b and c are to \n",
    "be taken by user input. Handle the erroneous input, such as ‘a’ should not be equal to 0. \n"
   ]
  },
  {
   "cell_type": "code",
   "execution_count": 10,
   "metadata": {},
   "outputs": [
    {
     "name": "stdout",
     "output_type": "stream",
     "text": [
      "Enter a: 0\n",
      "a Value should be greater than 1. Program Terminated\n"
     ]
    },
    {
     "ename": "SystemExit",
     "evalue": "",
     "output_type": "error",
     "traceback": [
      "An exception has occurred, use %tb to see the full traceback.\n",
      "\u001b[1;31mSystemExit\u001b[0m\n"
     ]
    }
   ],
   "source": [
    "import cmath\n",
    "import sys\n",
    "\n",
    "\n",
    "#input from the user\n",
    "a=int(input('Enter Value of a: '))\n",
    "if  int(a) > 0:\n",
    "    print()\n",
    "else:\n",
    "    print(\"a Value should be greater than 1. Program Terminated\")\n",
    "    sys.exit()\n",
    "b = int(input('Enter Value of b: '))\n",
    "c = int(input('Enter value of c: '))\n",
    "\n",
    "# calculation\n",
    "d = (b**2) - (4*a*c)\n",
    "\n",
    "# find two solutions\n",
    "type1 = (-b-cmath.sqrt(d))/(2*a)\n",
    "type2 = (-b+cmath.sqrt(d))/(2*a)\n",
    "\n",
    "print('Quardic Equation Solution as Follows {1} and {0}'.format(type1,type2))"
   ]
  },
  {
   "cell_type": "code",
   "execution_count": null,
   "metadata": {},
   "outputs": [],
   "source": []
  },
  {
   "cell_type": "code",
   "execution_count": null,
   "metadata": {},
   "outputs": [],
   "source": []
  },
  {
   "cell_type": "code",
   "execution_count": null,
   "metadata": {},
   "outputs": [],
   "source": []
  },
  {
   "cell_type": "code",
   "execution_count": null,
   "metadata": {},
   "outputs": [],
   "source": []
  }
 ],
 "metadata": {
  "kernelspec": {
   "display_name": "Python 3",
   "language": "python",
   "name": "python3"
  },
  "language_info": {
   "codemirror_mode": {
    "name": "ipython",
    "version": 3
   },
   "file_extension": ".py",
   "mimetype": "text/x-python",
   "name": "python",
   "nbconvert_exporter": "python",
   "pygments_lexer": "ipython3",
   "version": "3.7.4"
  }
 },
 "nbformat": 4,
 "nbformat_minor": 2
}
